{
 "cells": [
  {
   "cell_type": "code",
   "execution_count": 99,
   "metadata": {},
   "outputs": [],
   "source": [
    "'''\n",
    "Title: Batter Performance Table\n",
    "Author: Sam LaFell\n",
    "Date: 11/5/2022\n",
    "Purpose: I got a little carried away on my last notebook. Time to optimize some code.\n",
    "\n",
    "Granularity: xBA by pitch for each batter. By pitcher handiness.\n",
    "'''\n",
    "\n",
    "# Import Libraries\n",
    "import pandas as pd\n",
    "import pybaseball as pb\n",
    "import os\n",
    "import numpy as np\n",
    "import re\n",
    "\n",
    "pd.set_option('display.max_columns', 500)"
   ]
  },
  {
   "cell_type": "code",
   "execution_count": 97,
   "metadata": {},
   "outputs": [
    {
     "name": "stdout",
     "output_type": "stream",
     "text": [
      "This is a large query, it may take a moment to complete\n"
     ]
    },
    {
     "name": "stderr",
     "output_type": "stream",
     "text": [
      "100%|██████████| 1/1 [00:03<00:00,  3.11s/it]\n"
     ]
    }
   ],
   "source": [
    "\n",
    "# Statcast\n",
    "from pybaseball import statcast\n",
    "data = statcast('2018-03-30', '2018-03-30', team='ATL')"
   ]
  },
  {
   "cell_type": "code",
   "execution_count": 42,
   "metadata": {},
   "outputs": [],
   "source": [
    "# The batters before this game\n",
    "season_estimated_ba = data.groupby('batter').agg({'estimated_ba_using_speedangle':'mean'}).reset_index()"
   ]
  },
  {
   "cell_type": "code",
   "execution_count": 148,
   "metadata": {},
   "outputs": [
    {
     "name": "stdout",
     "output_type": "stream",
     "text": [
      "This is a large query, it may take a moment to complete\n"
     ]
    },
    {
     "name": "stderr",
     "output_type": "stream",
     "text": [
      "100%|██████████| 21/21 [00:06<00:00,  3.29it/s]\n"
     ]
    },
    {
     "data": {
      "text/html": [
       "<div>\n",
       "<style scoped>\n",
       "    .dataframe tbody tr th:only-of-type {\n",
       "        vertical-align: middle;\n",
       "    }\n",
       "\n",
       "    .dataframe tbody tr th {\n",
       "        vertical-align: top;\n",
       "    }\n",
       "\n",
       "    .dataframe thead th {\n",
       "        text-align: right;\n",
       "    }\n",
       "</style>\n",
       "<table border=\"1\" class=\"dataframe\">\n",
       "  <thead>\n",
       "    <tr style=\"text-align: right;\">\n",
       "      <th></th>\n",
       "      <th>batter</th>\n",
       "      <th>PA</th>\n",
       "      <th>xBA</th>\n",
       "    </tr>\n",
       "  </thead>\n",
       "  <tbody>\n",
       "    <tr>\n",
       "      <th>16</th>\n",
       "      <td>458015</td>\n",
       "      <td>77</td>\n",
       "      <td>0.3605</td>\n",
       "    </tr>\n",
       "    <tr>\n",
       "      <th>45</th>\n",
       "      <td>571697</td>\n",
       "      <td>76</td>\n",
       "      <td>0.322167</td>\n",
       "    </tr>\n",
       "    <tr>\n",
       "      <th>71</th>\n",
       "      <td>606299</td>\n",
       "      <td>67</td>\n",
       "      <td>0.278471</td>\n",
       "    </tr>\n",
       "    <tr>\n",
       "      <th>58</th>\n",
       "      <td>594807</td>\n",
       "      <td>67</td>\n",
       "      <td>0.274</td>\n",
       "    </tr>\n",
       "    <tr>\n",
       "      <th>46</th>\n",
       "      <td>571740</td>\n",
       "      <td>63</td>\n",
       "      <td>0.279</td>\n",
       "    </tr>\n",
       "    <tr>\n",
       "      <th>...</th>\n",
       "      <td>...</td>\n",
       "      <td>...</td>\n",
       "      <td>...</td>\n",
       "    </tr>\n",
       "    <tr>\n",
       "      <th>90</th>\n",
       "      <td>623149</td>\n",
       "      <td>3</td>\n",
       "      <td>&lt;NA&gt;</td>\n",
       "    </tr>\n",
       "    <tr>\n",
       "      <th>75</th>\n",
       "      <td>607237</td>\n",
       "      <td>3</td>\n",
       "      <td>&lt;NA&gt;</td>\n",
       "    </tr>\n",
       "    <tr>\n",
       "      <th>64</th>\n",
       "      <td>601713</td>\n",
       "      <td>3</td>\n",
       "      <td>&lt;NA&gt;</td>\n",
       "    </tr>\n",
       "    <tr>\n",
       "      <th>5</th>\n",
       "      <td>450306</td>\n",
       "      <td>2</td>\n",
       "      <td>&lt;NA&gt;</td>\n",
       "    </tr>\n",
       "    <tr>\n",
       "      <th>33</th>\n",
       "      <td>518774</td>\n",
       "      <td>1</td>\n",
       "      <td>0.12</td>\n",
       "    </tr>\n",
       "  </tbody>\n",
       "</table>\n",
       "<p>98 rows × 3 columns</p>\n",
       "</div>"
      ],
      "text/plain": [
       "    batter  PA       xBA\n",
       "16  458015  77    0.3605\n",
       "45  571697  76  0.322167\n",
       "71  606299  67  0.278471\n",
       "58  594807  67     0.274\n",
       "46  571740  63     0.279\n",
       "..     ...  ..       ...\n",
       "90  623149   3      <NA>\n",
       "75  607237   3      <NA>\n",
       "64  601713   3      <NA>\n",
       "5   450306   2      <NA>\n",
       "33  518774   1      0.12\n",
       "\n",
       "[98 rows x 3 columns]"
      ]
     },
     "execution_count": 148,
     "metadata": {},
     "output_type": "execute_result"
    }
   ],
   "source": [
    "# If Game Date is after 5/1, do this\n",
    "game_day = '2018-05-13'\n",
    "from datetime import timedelta, datetime\n",
    "first_day_range = (datetime.strptime(game_day, '%Y-%m-%d') - timedelta(days = 21)).strftime('%Y-%m-%d')\n",
    "last_day_range = (datetime.strptime(game_day, '%Y-%m-%d') - timedelta(days = 1)).strftime('%Y-%m-%d')\n",
    "\n",
    "# Who is playing?\n",
    "team = 'ATL'\n",
    "\n",
    "# Pull down Data\n",
    "data = statcast(first_day_range, last_day_range, team=team)\n",
    "\n",
    "# The batters before this game\n",
    "season_estimated_ba = data.groupby('batter').agg({'estimated_ba_using_speedangle':'mean'}).reset_index()\n",
    "\n",
    "# PAs before this game\n",
    "atbats = data.groupby(['game_date', 'batter', 'at_bat_number']).agg({'batter':'count'})\n",
    "atbats.columns = ['batter_count']\n",
    "atbats = atbats.reset_index()\n",
    "season_atbats = atbats.drop(columns=['at_bat_number'], axis=1).groupby('batter').sum(numeric_only=True).reset_index()\n",
    "\n",
    "# Batters PAs and xBA to date\n",
    "pas_xba = season_atbats.merge(season_estimated_ba, how='inner', on='batter').rename(columns={'batter_count':'PA', 'estimated_ba_using_speedangle':'xBA'})\n",
    "pas_xba.sort_values('PA', ascending=False)"
   ]
  },
  {
   "cell_type": "code",
   "execution_count": 153,
   "metadata": {},
   "outputs": [
    {
     "data": {
      "text/html": [
       "<div>\n",
       "<style scoped>\n",
       "    .dataframe tbody tr th:only-of-type {\n",
       "        vertical-align: middle;\n",
       "    }\n",
       "\n",
       "    .dataframe tbody tr th {\n",
       "        vertical-align: top;\n",
       "    }\n",
       "\n",
       "    .dataframe thead th {\n",
       "        text-align: right;\n",
       "    }\n",
       "</style>\n",
       "<table border=\"1\" class=\"dataframe\">\n",
       "  <thead>\n",
       "    <tr style=\"text-align: right;\">\n",
       "      <th></th>\n",
       "      <th>name_last</th>\n",
       "      <th>name_first</th>\n",
       "      <th>key_mlbam</th>\n",
       "      <th>key_retro</th>\n",
       "      <th>key_bbref</th>\n",
       "      <th>key_fangraphs</th>\n",
       "      <th>mlb_played_first</th>\n",
       "      <th>mlb_played_last</th>\n",
       "    </tr>\n",
       "  </thead>\n",
       "  <tbody>\n",
       "    <tr>\n",
       "      <th>94</th>\n",
       "      <td>votto</td>\n",
       "      <td>joey</td>\n",
       "      <td>458015</td>\n",
       "      <td>vottj001</td>\n",
       "      <td>vottojo01</td>\n",
       "      <td>4314</td>\n",
       "      <td>2007.0</td>\n",
       "      <td>2022.0</td>\n",
       "    </tr>\n",
       "  </tbody>\n",
       "</table>\n",
       "</div>"
      ],
      "text/plain": [
       "   name_last name_first  key_mlbam key_retro  key_bbref  key_fangraphs  \\\n",
       "94     votto       joey     458015  vottj001  vottojo01           4314   \n",
       "\n",
       "    mlb_played_first  mlb_played_last  \n",
       "94            2007.0           2022.0  "
      ]
     },
     "execution_count": 153,
     "metadata": {},
     "output_type": "execute_result"
    }
   ],
   "source": [
    "# Reverse Player Lookup\n",
    "from pybaseball import playerid_reverse_lookup\n",
    "# find the names of the players in player_ids, along with their ids from other data sources\n",
    "batters_lookup = playerid_reverse_lookup(pas_xba.batter.values, key_type='mlbam')\n",
    "batters_lookup.loc[batters_lookup['key_mlbam'] == 458015] # he does NOT play for ATL"
   ]
  },
  {
   "cell_type": "code",
   "execution_count": 151,
   "metadata": {},
   "outputs": [
    {
     "data": {
      "text/html": [
       "<div>\n",
       "<style scoped>\n",
       "    .dataframe tbody tr th:only-of-type {\n",
       "        vertical-align: middle;\n",
       "    }\n",
       "\n",
       "    .dataframe tbody tr th {\n",
       "        vertical-align: top;\n",
       "    }\n",
       "\n",
       "    .dataframe thead th {\n",
       "        text-align: right;\n",
       "    }\n",
       "</style>\n",
       "<table border=\"1\" class=\"dataframe\">\n",
       "  <thead>\n",
       "    <tr style=\"text-align: right;\">\n",
       "      <th></th>\n",
       "      <th>name_last</th>\n",
       "      <th>name_first</th>\n",
       "      <th>key_mlbam</th>\n",
       "      <th>key_retro</th>\n",
       "      <th>key_bbref</th>\n",
       "      <th>key_fangraphs</th>\n",
       "      <th>mlb_played_first</th>\n",
       "      <th>mlb_played_last</th>\n",
       "      <th>IDfg</th>\n",
       "      <th>Season</th>\n",
       "      <th>Name</th>\n",
       "      <th>Team</th>\n",
       "      <th>Age</th>\n",
       "    </tr>\n",
       "  </thead>\n",
       "  <tbody>\n",
       "  </tbody>\n",
       "</table>\n",
       "</div>"
      ],
      "text/plain": [
       "Empty DataFrame\n",
       "Columns: [name_last, name_first, key_mlbam, key_retro, key_bbref, key_fangraphs, mlb_played_first, mlb_played_last, IDfg, Season, Name, Team, Age]\n",
       "Index: []"
      ]
     },
     "execution_count": 151,
     "metadata": {},
     "output_type": "execute_result"
    }
   ],
   "source": [
    "# Find the name team and season\n",
    "from pybaseball import batting_stats\n",
    "game_year = datetime.strptime(game_day, '%Y-%m-%d').year\n",
    "# get all of this season's batting data so far\n",
    "team_data = batting_stats(game_year, qual=5)\n",
    "\n",
    "# Names\n",
    "team_data['name_first'] = team_data.Name.str.split(\" \").str[0].str.lower()\n",
    "team_data['name_last'] = team_data.Name.str.split(\" \").str[1].str.lower()\n",
    "enhanced_player_lookup_pt1 = team_data[['IDfg', 'Season', 'Name', 'Team', 'Age', 'name_first', 'name_last']]\n",
    "\n",
    "# Join\n",
    "enhanced_player_lookup = batters_lookup.merge(enhanced_player_lookup_pt1, how='inner', on=['name_first', 'name_last'])\n"
   ]
  },
  {
   "cell_type": "code",
   "execution_count": 152,
   "metadata": {},
   "outputs": [
    {
     "data": {
      "text/plain": [
       "PHI      15\n",
       "CIN      14\n",
       "- - -    14\n",
       "NYM      14\n",
       "SFG      13\n",
       "MIA      11\n",
       "TBR       7\n",
       "Name: Team, dtype: int64"
      ]
     },
     "execution_count": 152,
     "metadata": {},
     "output_type": "execute_result"
    }
   ],
   "source": [
    "# Only Atlanta\n",
    "enhanced_player_lookup.Team.value_counts()"
   ]
  },
  {
   "cell_type": "code",
   "execution_count": null,
   "metadata": {},
   "outputs": [],
   "source": []
  },
  {
   "cell_type": "code",
   "execution_count": null,
   "metadata": {},
   "outputs": [],
   "source": []
  },
  {
   "cell_type": "code",
   "execution_count": 103,
   "metadata": {},
   "outputs": [
    {
     "data": {
      "text/html": [
       "<div>\n",
       "<style scoped>\n",
       "    .dataframe tbody tr th:only-of-type {\n",
       "        vertical-align: middle;\n",
       "    }\n",
       "\n",
       "    .dataframe tbody tr th {\n",
       "        vertical-align: top;\n",
       "    }\n",
       "\n",
       "    .dataframe thead th {\n",
       "        text-align: right;\n",
       "    }\n",
       "</style>\n",
       "<table border=\"1\" class=\"dataframe\">\n",
       "  <thead>\n",
       "    <tr style=\"text-align: right;\">\n",
       "      <th></th>\n",
       "      <th>name_last</th>\n",
       "      <th>name_first</th>\n",
       "      <th>key_mlbam</th>\n",
       "      <th>key_retro</th>\n",
       "      <th>key_bbref</th>\n",
       "      <th>key_fangraphs</th>\n",
       "      <th>mlb_played_first</th>\n",
       "      <th>mlb_played_last</th>\n",
       "    </tr>\n",
       "  </thead>\n",
       "  <tbody>\n",
       "    <tr>\n",
       "      <th>18</th>\n",
       "      <td>castro</td>\n",
       "      <td>starlin</td>\n",
       "      <td>516770</td>\n",
       "      <td>casts001</td>\n",
       "      <td>castrst01</td>\n",
       "      <td>4579</td>\n",
       "      <td>2010.0</td>\n",
       "      <td>2021.0</td>\n",
       "    </tr>\n",
       "  </tbody>\n",
       "</table>\n",
       "</div>"
      ],
      "text/plain": [
       "   name_last name_first  key_mlbam key_retro  key_bbref  key_fangraphs  \\\n",
       "18    castro    starlin     516770  casts001  castrst01           4579   \n",
       "\n",
       "    mlb_played_first  mlb_played_last  \n",
       "18            2010.0           2021.0  "
      ]
     },
     "execution_count": 103,
     "metadata": {},
     "output_type": "execute_result"
    }
   ],
   "source": [
    "description = [*data.des][0]\n",
    "last = description.split(' ')[1]\n",
    "first = description.split(' ')[0]\n",
    "players = pb.playerid_lookup(last=last)\n",
    "batter = players.loc[players['name_first'] == first.lower()]"
   ]
  },
  {
   "cell_type": "code",
   "execution_count": 139,
   "metadata": {},
   "outputs": [
    {
     "data": {
      "text/html": [
       "<div>\n",
       "<style scoped>\n",
       "    .dataframe tbody tr th:only-of-type {\n",
       "        vertical-align: middle;\n",
       "    }\n",
       "\n",
       "    .dataframe tbody tr th {\n",
       "        vertical-align: top;\n",
       "    }\n",
       "\n",
       "    .dataframe thead th {\n",
       "        text-align: right;\n",
       "    }\n",
       "</style>\n",
       "<table border=\"1\" class=\"dataframe\">\n",
       "  <thead>\n",
       "    <tr style=\"text-align: right;\">\n",
       "      <th></th>\n",
       "      <th>name_last</th>\n",
       "      <th>name_first</th>\n",
       "      <th>key_mlbam</th>\n",
       "      <th>key_retro</th>\n",
       "      <th>key_bbref</th>\n",
       "      <th>key_fangraphs</th>\n",
       "      <th>mlb_played_first</th>\n",
       "      <th>mlb_played_last</th>\n",
       "      <th>IDfg</th>\n",
       "      <th>Season</th>\n",
       "      <th>Name</th>\n",
       "      <th>Team</th>\n",
       "      <th>Age</th>\n",
       "    </tr>\n",
       "  </thead>\n",
       "  <tbody>\n",
       "    <tr>\n",
       "      <th>0</th>\n",
       "      <td>castro</td>\n",
       "      <td>starlin</td>\n",
       "      <td>516770</td>\n",
       "      <td>casts001</td>\n",
       "      <td>castrst01</td>\n",
       "      <td>4579</td>\n",
       "      <td>2010.0</td>\n",
       "      <td>2021.0</td>\n",
       "      <td>4579</td>\n",
       "      <td>2018</td>\n",
       "      <td>Starlin Castro</td>\n",
       "      <td>MIA</td>\n",
       "      <td>28</td>\n",
       "    </tr>\n",
       "  </tbody>\n",
       "</table>\n",
       "</div>"
      ],
      "text/plain": [
       "  name_last name_first  key_mlbam key_retro  key_bbref  key_fangraphs  \\\n",
       "0    castro    starlin     516770  casts001  castrst01           4579   \n",
       "\n",
       "   mlb_played_first  mlb_played_last  IDfg  Season            Name Team  Age  \n",
       "0            2010.0           2021.0  4579    2018  Starlin Castro  MIA   28  "
      ]
     },
     "execution_count": 139,
     "metadata": {},
     "output_type": "execute_result"
    }
   ],
   "source": [
    "# Find the name team and season\n",
    "from pybaseball import batting_stats\n",
    "game_year = datetime.strptime(game_day, '%Y-%m-%d').year\n",
    "# get all of this season's batting data so far\n",
    "team_data = batting_stats(game_year, qual=5)\n",
    "\n",
    "# Names\n",
    "team_data['name_first'] = team_data.Name.str.split(\" \").str[0].str.lower()\n",
    "team_data['name_last'] = team_data.Name.str.split(\" \").str[1].str.lower()\n",
    "enhanced_player_lookup_pt1 = team_data[['IDfg', 'Season', 'Name', 'Team', 'Age', 'name_first', 'name_last']]\n",
    "\n",
    "# Join\n",
    "enhanced_player_lookup = batter.merge(enhanced_player_lookup_pt1, how='inner', on=['name_first', 'name_last'])"
   ]
  },
  {
   "cell_type": "code",
   "execution_count": 114,
   "metadata": {},
   "outputs": [
    {
     "data": {
      "text/html": [
       "<div>\n",
       "<style scoped>\n",
       "    .dataframe tbody tr th:only-of-type {\n",
       "        vertical-align: middle;\n",
       "    }\n",
       "\n",
       "    .dataframe tbody tr th {\n",
       "        vertical-align: top;\n",
       "    }\n",
       "\n",
       "    .dataframe thead th {\n",
       "        text-align: right;\n",
       "    }\n",
       "</style>\n",
       "<table border=\"1\" class=\"dataframe\">\n",
       "  <thead>\n",
       "    <tr style=\"text-align: right;\">\n",
       "      <th></th>\n",
       "      <th>Name</th>\n",
       "      <th>Team</th>\n",
       "      <th>Season</th>\n",
       "    </tr>\n",
       "  </thead>\n",
       "  <tbody>\n",
       "    <tr>\n",
       "      <th>246</th>\n",
       "      <td>Starlin Castro</td>\n",
       "      <td>MIA</td>\n",
       "      <td>2018</td>\n",
       "    </tr>\n",
       "  </tbody>\n",
       "</table>\n",
       "</div>"
      ],
      "text/plain": [
       "               Name Team  Season\n",
       "246  Starlin Castro  MIA    2018"
      ]
     },
     "execution_count": 114,
     "metadata": {},
     "output_type": "execute_result"
    }
   ],
   "source": [
    "team_data.loc[team_data['Name'] == first + ' ' + last]"
   ]
  },
  {
   "cell_type": "code",
   "execution_count": 132,
   "metadata": {},
   "outputs": [],
   "source": [
    "team_data['First_Name'] = team_data.Name.str.split(\" \").str[0]\n",
    "team_data['Last_Name'] = team_data.Name.str.split(\" \").str[1]"
   ]
  },
  {
   "cell_type": "code",
   "execution_count": null,
   "metadata": {},
   "outputs": [],
   "source": [
    "team_data['Last_Name'] = team_data.Name.str.split(\" \")[1]"
   ]
  },
  {
   "cell_type": "code",
   "execution_count": null,
   "metadata": {},
   "outputs": [],
   "source": []
  }
 ],
 "metadata": {
  "kernelspec": {
   "display_name": "Python 3.10.6",
   "language": "python",
   "name": "python3"
  },
  "language_info": {
   "codemirror_mode": {
    "name": "ipython",
    "version": 3
   },
   "file_extension": ".py",
   "mimetype": "text/x-python",
   "name": "python",
   "nbconvert_exporter": "python",
   "pygments_lexer": "ipython3",
   "version": "3.10.6"
  },
  "orig_nbformat": 4,
  "vscode": {
   "interpreter": {
    "hash": "941629cbbf97b7e3ef6b8d2d68d9429b2edbaa385d28548608af70dd37a6ec21"
   }
  }
 },
 "nbformat": 4,
 "nbformat_minor": 2
}
